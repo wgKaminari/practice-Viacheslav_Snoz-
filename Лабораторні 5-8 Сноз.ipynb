{
 "cells": [
  {
   "cell_type": "code",
   "execution_count": 1,
   "id": "d1d7193e",
   "metadata": {},
   "outputs": [],
   "source": [
    "import sqlite3\n",
    "con = sqlite3.connect(\"movies.db\")\n",
    "cur = con.cursor()"
   ]
  },
  {
   "cell_type": "code",
   "execution_count": 2,
   "id": "58d190f9",
   "metadata": {},
   "outputs": [],
   "source": [
    "from enum import Enum\n",
    "class Country(Enum):\n",
    "    BRITAIN = 'Britain'\n",
    "    NEWZEALAND = 'NewZealand'\n",
    "    USA = 'USA'\n",
    "    BRAZIL = 'Brazil'\n",
    "\n",
    "    @classmethod\n",
    "    def valueTuples(self):\n",
    "        return [(e.value,) for e in Country]\n",
    "\n",
    "    @classmethod\n",
    "    def createTable(self):\n",
    "        cur.execute('CREATE TABLE IF NOT EXISTS l_countries (country TEXT PRIMARY KEY)')\n",
    "        cur.executemany('INSERT INTO l_countries VALUES(?)', Country.valueTuples())\n",
    "        con.commit()\n",
    "\n",
    "    @classmethod\n",
    "    def removeTable(self):\n",
    "        cur.execute('DROP TABLE IF EXISTS l_countries')\n",
    "        con.commit()\n",
    "        \n",
    "    @classmethod\n",
    "    def getAll(self):\n",
    "        cur.execute('SELECT * FROM l_countries')\n",
    "        sqlResult = cur.fetchall()\n",
    "        return [Country(p[0]) for p in sqlResult]"
   ]
  },
  {
   "cell_type": "code",
   "execution_count": 3,
   "id": "feb32285",
   "metadata": {},
   "outputs": [],
   "source": [
    "Country.removeTable()\n",
    "Country.createTable()"
   ]
  },
  {
   "cell_type": "code",
   "execution_count": 4,
   "id": "bb2be4ca",
   "metadata": {
    "scrolled": false
   },
   "outputs": [
    {
     "data": {
      "text/plain": [
       "[<Country.BRITAIN: 'Britain'>,\n",
       " <Country.NEWZEALAND: 'NewZealand'>,\n",
       " <Country.USA: 'USA'>,\n",
       " <Country.BRAZIL: 'Brazil'>]"
      ]
     },
     "execution_count": 4,
     "metadata": {},
     "output_type": "execute_result"
    }
   ],
   "source": [
    "Country.getAll()"
   ]
  },
  {
   "cell_type": "code",
   "execution_count": 5,
   "id": "ac3d3417",
   "metadata": {},
   "outputs": [],
   "source": [
    "class Genre(Enum):\n",
    "    ADVENTURE = 'adventure'\n",
    "    SCIFY = 'scify'\n",
    "    ACTION = 'action'\n",
    "    COMEDY = 'comedy'\n",
    "    HORROR = 'horror'\n",
    "    OTHERS = 'others'\n",
    "    \n",
    "    @classmethod\n",
    "    def valueTuples(self):\n",
    "        return [(e.value,) for e in Genre]\n",
    "\n",
    "    @classmethod\n",
    "    def createTable(self):\n",
    "        cur.execute('CREATE TABLE IF NOT EXISTS l_genres (genre text)')\n",
    "        cur.executemany('INSERT INTO l_genres VALUES(?)', Genre.valueTuples())\n",
    "        con.commit()\n",
    "\n",
    "    @classmethod\n",
    "    def removeTable(self):\n",
    "        cur.execute('DROP TABLE IF EXISTS l_genres')\n",
    "        con.commit()\n",
    "        \n",
    "    @classmethod\n",
    "    def getAll(self):\n",
    "        cur.execute('SELECT * FROM l_genres')\n",
    "        sqlResult = cur.fetchall()\n",
    "        return [Genre(p[0]) for p in sqlResult]"
   ]
  },
  {
   "cell_type": "code",
   "execution_count": 6,
   "id": "3dbd6020",
   "metadata": {},
   "outputs": [
    {
     "data": {
      "text/plain": [
       "[<Genre.ADVENTURE: 'adventure'>,\n",
       " <Genre.SCIFY: 'scify'>,\n",
       " <Genre.ACTION: 'action'>,\n",
       " <Genre.COMEDY: 'comedy'>,\n",
       " <Genre.HORROR: 'horror'>,\n",
       " <Genre.OTHERS: 'others'>]"
      ]
     },
     "execution_count": 6,
     "metadata": {},
     "output_type": "execute_result"
    }
   ],
   "source": [
    "Genre.removeTable()\n",
    "Genre.createTable()\n",
    "Genre.getAll()"
   ]
  },
  {
   "cell_type": "code",
   "execution_count": 7,
   "id": "cff97b4d",
   "metadata": {},
   "outputs": [],
   "source": [
    "def createGenreMapping():\n",
    "    cur.execute('''CREATE TABLE IF NOT EXISTS MOVIE_GENRE(\n",
    "                    movie text,\n",
    "                    genre text,\n",
    "                    PRIMARY KEY(movie, genre),\n",
    "                    FOREIGN KEY(movie) REFERENCES movies(name),\n",
    "                    FOREIGN KEY(genre) REFERENCES l_genres(genre))''')\n",
    "    con.commit()"
   ]
  },
  {
   "cell_type": "code",
   "execution_count": 8,
   "id": "d8252730",
   "metadata": {},
   "outputs": [],
   "source": [
    "cur.execute('DROP TABLE IF EXISTS MOVIE_GENRE')\n",
    "con.commit()"
   ]
  },
  {
   "cell_type": "code",
   "execution_count": 9,
   "id": "4ea91062",
   "metadata": {},
   "outputs": [],
   "source": [
    "createGenreMapping()"
   ]
  },
  {
   "cell_type": "code",
   "execution_count": 10,
   "id": "23013f3f",
   "metadata": {},
   "outputs": [],
   "source": [
    "class Movie:\n",
    "    def __init__(self, name, director, country, year, rating, genres):\n",
    "        self.name = name\n",
    "        self.director = director\n",
    "        self.country = country\n",
    "        self.year = year\n",
    "        self.rating = rating\n",
    "        self.genres = genres\n",
    "\n",
    "    @classmethod\n",
    "    def createTable(self):\n",
    "        cur.execute('''CREATE TABLE IF NOT EXISTS movies (\n",
    "                        name text PRIMARY KEY,\n",
    "                        director text,\n",
    "                        country text,\n",
    "                        year integer,\n",
    "                        rating REAL,\n",
    "                        FOREIGN KEY(country) REFERENCES l_countries(country))''')\n",
    "        con.commit()\n",
    "\n",
    "    def insert(self):\n",
    "        cur.execute('''INSERT INTO movies VALUES(?,?,?,?, ?)''', (self.name, self.director, self.country, self.year, self.rating))\n",
    "        cur.executemany('''INSERT INTO movie_genre VALUES(?,?)''', [(self.name, m.value) for m in self.genres])\n",
    "        con.commit()\n",
    "\n",
    "    def update(self):\n",
    "        cur.execute('''UPDATE movies SET director=?, country=?, year=?, rating=? WHERE name=?''', (self.director, self.country, self.year, self.rating, self.name))\n",
    "        con.commit()\n",
    "        \n",
    "    @classmethod\n",
    "    def removeTable(self):\n",
    "        cur.execute('DROP TABLE IF EXISTS movies')\n",
    "        con.commit()\n",
    "        \n",
    "    @classmethod\n",
    "    def get(self, name):\n",
    "        cur.execute(''' SELECT director, country, year, rating, GROUP_CONCAT(genre, ',') FROM movies\n",
    "                    LEFT JOIN movie_genre ON movies.name = movie_genre.movie\n",
    "                    WHERE movies.name=? GROUP BY movies.name''', (name,))\n",
    "        res = cur.fetchone()\n",
    "        if res:\n",
    "            return Movie(name, res[0], res[1], res[2], res[3], getGenresFromString(res[4]))\n",
    "        else:\n",
    "            return None\n",
    "\n",
    "    def __str__(self):\n",
    "        return \"(%s, %s, %s, %s, %s, %s)\" % (self.name, self.director, self.country, self.year, self.rating, self.genres)\n",
    "    \n",
    "\n",
    "def getGenresFromString(str):\n",
    "    return {Genre(e) for e in str.split(',')}"
   ]
  },
  {
   "cell_type": "code",
   "execution_count": 11,
   "id": "6da5adb8",
   "metadata": {},
   "outputs": [],
   "source": [
    "Movie.removeTable()\n",
    "Movie.createTable()"
   ]
  },
  {
   "cell_type": "code",
   "execution_count": 12,
   "id": "a2c1c714",
   "metadata": {},
   "outputs": [],
   "source": [
    "movie_1 = Movie('One Piece', 'Konosude Uda', 'Japan', 1999, 8.9, {Genre.ADVENTURE})\n",
    "movie_2 = Movie('Blade', 'Steven Norrington', 'LosAngeles', 1998, 7.1, {Genre.HORROR})\n",
    "movie_3 = Movie('Pulp fiction', 'Quentin Tarantino', 'USA', 1994, 8.9, {Genre.COMEDY})\n",
    "\n",
    "\n",
    "movie_1.insert()\n",
    "movie_2.insert()\n",
    "movie_3.insert()"
   ]
  },
  {
   "cell_type": "code",
   "execution_count": 13,
   "id": "6b77a153",
   "metadata": {},
   "outputs": [
    {
     "name": "stdout",
     "output_type": "stream",
     "text": [
      "(One Piece, Konosude Uda, Japan, 1999, 8.9, {<Genre.ADVENTURE: 'adventure'>})\n"
     ]
    }
   ],
   "source": [
    "print(Movie.get('One Piece'))"
   ]
  },
  {
   "cell_type": "code",
   "execution_count": 14,
   "id": "0e717ed8",
   "metadata": {},
   "outputs": [],
   "source": [
    "class Director:\n",
    "    def __init__(self, name, birth_year, country):\n",
    "        self.name = name\n",
    "        self.birth_year = birth_year\n",
    "        self.country = country\n",
    "\n",
    "    @classmethod\n",
    "    def createTable(cls):\n",
    "        cur.execute('''CREATE TABLE IF NOT EXISTS directors (\n",
    "                        name TEXT PRIMARY KEY,\n",
    "                        birth_year INTEGER,\n",
    "                        country TEXT)''')\n",
    "        con.commit()\n",
    "\n",
    "    @classmethod\n",
    "    def insert(self):\n",
    "        cur.execute('''INSERT INTO directors VALUES(?,?,?)''', (self.name, self.birth_year, self.country))\n",
    "        con.commit()\n",
    "\n",
    "    def update(self):\n",
    "        cur.execute('''UPDATE directors SET birth_year=?, country=? WHERE name=?''', (self.birth_year, self.country, self.name))\n",
    "        con.commit() \n",
    "        \n",
    "    def removeTable(cls):\n",
    "        cur.execute('DROP TABLE IF EXISTS directors')\n",
    "        con.commit()\n",
    "\n",
    "\n",
    "    @classmethod\n",
    "    def get(self, name):\n",
    "        cur.execute('SELECT birth_year, country FROM directors WHERE name=?', (name,))\n",
    "        res = cur.fetchone()\n",
    "        if res:\n",
    "            return Director(name, res[0], res[1])\n",
    "        else:\n",
    "            return None\n",
    "\n",
    "    @classmethod\n",
    "    def getAll(self):\n",
    "        cur.execute('SELECT name, birth_year, country FROM directors')\n",
    "        res = cur.fetchall()\n",
    "        return [Director(el[0], el[1], el[2]) for el in res]\n",
    "\n",
    "    def __str__(self):\n",
    "        return \"(%s, %s, %s)\" % (self.name, self.birth_year, self.country)"
   ]
  },
  {
   "cell_type": "code",
   "execution_count": 27,
   "id": "75fc2668",
   "metadata": {},
   "outputs": [
    {
     "ename": "TypeError",
     "evalue": "Director.removeTable() missing 1 required positional argument: 'cls'",
     "output_type": "error",
     "traceback": [
      "\u001b[1;31m---------------------------------------------------------------------------\u001b[0m",
      "\u001b[1;31mTypeError\u001b[0m                                 Traceback (most recent call last)",
      "Cell \u001b[1;32mIn[27], line 1\u001b[0m\n\u001b[1;32m----> 1\u001b[0m \u001b[43mDirector\u001b[49m\u001b[38;5;241;43m.\u001b[39;49m\u001b[43mremoveTable\u001b[49m\u001b[43m(\u001b[49m\u001b[43m)\u001b[49m\n\u001b[0;32m      2\u001b[0m Director\u001b[38;5;241m.\u001b[39mcreateTable()\n",
      "\u001b[1;31mTypeError\u001b[0m: Director.removeTable() missing 1 required positional argument: 'cls'"
     ]
    }
   ],
   "source": [
    "Director.removeTable()\n",
    "Director.createTable()"
   ]
  },
  {
   "cell_type": "code",
   "execution_count": 20,
   "id": "3627c683",
   "metadata": {},
   "outputs": [
    {
     "ename": "AttributeError",
     "evalue": "type object 'Director' has no attribute 'name'",
     "output_type": "error",
     "traceback": [
      "\u001b[1;31m---------------------------------------------------------------------------\u001b[0m",
      "\u001b[1;31mAttributeError\u001b[0m                            Traceback (most recent call last)",
      "Cell \u001b[1;32mIn[20], line 5\u001b[0m\n\u001b[0;32m      2\u001b[0m d2 \u001b[38;5;241m=\u001b[39m Director(\u001b[38;5;124m'\u001b[39m\u001b[38;5;124mSteven Norrington\u001b[39m\u001b[38;5;124m'\u001b[39m, \u001b[38;5;241m1964\u001b[39m, \u001b[38;5;124m'\u001b[39m\u001b[38;5;124mGreatBritain\u001b[39m\u001b[38;5;124m'\u001b[39m)\n\u001b[0;32m      3\u001b[0m d3 \u001b[38;5;241m=\u001b[39m Director(\u001b[38;5;124m'\u001b[39m\u001b[38;5;124mQuentin Tarantino\u001b[39m\u001b[38;5;124m'\u001b[39m, \u001b[38;5;241m1963\u001b[39m, \u001b[38;5;124m'\u001b[39m\u001b[38;5;124mUSA\u001b[39m\u001b[38;5;124m'\u001b[39m)\n\u001b[1;32m----> 5\u001b[0m \u001b[43md1\u001b[49m\u001b[38;5;241;43m.\u001b[39;49m\u001b[43minsert\u001b[49m\u001b[43m(\u001b[49m\u001b[43m)\u001b[49m\n\u001b[0;32m      6\u001b[0m d2\u001b[38;5;241m.\u001b[39minsert()\n\u001b[0;32m      7\u001b[0m d3\u001b[38;5;241m.\u001b[39minsert()\n",
      "Cell \u001b[1;32mIn[14], line 17\u001b[0m, in \u001b[0;36mDirector.insert\u001b[1;34m(self)\u001b[0m\n\u001b[0;32m     15\u001b[0m \u001b[38;5;129m@classmethod\u001b[39m\n\u001b[0;32m     16\u001b[0m \u001b[38;5;28;01mdef\u001b[39;00m \u001b[38;5;21minsert\u001b[39m(\u001b[38;5;28mself\u001b[39m):\n\u001b[1;32m---> 17\u001b[0m     cur\u001b[38;5;241m.\u001b[39mexecute(\u001b[38;5;124m'''\u001b[39m\u001b[38;5;124mINSERT INTO directors VALUES(?,?,?)\u001b[39m\u001b[38;5;124m'''\u001b[39m, (\u001b[38;5;28;43mself\u001b[39;49m\u001b[38;5;241;43m.\u001b[39;49m\u001b[43mname\u001b[49m, \u001b[38;5;28mself\u001b[39m\u001b[38;5;241m.\u001b[39mbirth_year, \u001b[38;5;28mself\u001b[39m\u001b[38;5;241m.\u001b[39mcountry))\n\u001b[0;32m     18\u001b[0m     con\u001b[38;5;241m.\u001b[39mcommit()\n",
      "\u001b[1;31mAttributeError\u001b[0m: type object 'Director' has no attribute 'name'"
     ]
    }
   ],
   "source": [
    "d1 = Director('Konosude Uda', 1966, 'Japan')\n",
    "d2 = Director('Steven Norrington', 1964, 'GreatBritain')\n",
    "d3 = Director('Quentin Tarantino', 1963, 'USA')\n",
    "\n",
    "d1.insert()\n",
    "d2.insert()\n",
    "d3.insert()"
   ]
  },
  {
   "cell_type": "code",
   "execution_count": 21,
   "id": "07588598",
   "metadata": {},
   "outputs": [
    {
     "name": "stdout",
     "output_type": "stream",
     "text": [
      "(Quentin Tarantino, 1963, USA)\n"
     ]
    }
   ],
   "source": [
    "directorFromDb = Director.get('Quentin Tarantino')\n",
    "print(directorFromDb)"
   ]
  },
  {
   "cell_type": "code",
   "execution_count": 22,
   "id": "0464d5c4",
   "metadata": {},
   "outputs": [],
   "source": [
    "class Movies:\n",
    "    def __init__(self, name, director, country, year, rating, genres):\n",
    "        self.name = name\n",
    "        self.director = director\n",
    "        self.country = country\n",
    "        self.year = year\n",
    "        self.rating = rating\n",
    "        self.genres = genres\n",
    "\n",
    "    @classmethod\n",
    "    def insert(self):\n",
    "        cur.execute('''INSERT INTO movies VALUES(?,?,?,?,?)''', (self.name, self.director, self.country, self.year, self.rating))\n",
    "        cur.executemany('''INSERT INTO movie_genre VALUES(?,?)''', [(self.name, genre.value) for genre in self.genres])\n",
    "        con.commit()\n",
    "\n",
    "    def update(self):\n",
    "        cur.execute('''UPDATE movies SET director=?, country=?, year=?, rating=? WHERE name=?''', \n",
    "                    (self.director, self.country, self.year, self.rating, self.name))\n",
    "        con.commit() \n",
    "        \n",
    "    def createTable(self):\n",
    "        cur.execute('''CREATE TABLE IF NOT EXISTS movies (\n",
    "                        name TEXT PRIMARY KEY,\n",
    "                        director TEXT,\n",
    "                        country TEXT,\n",
    "                        year INTEGER,\n",
    "                        rating REAL,\n",
    "                        FOREIGN KEY(director) REFERENCES directors(name))''')\n",
    "        con.commit()\n",
    "\n",
    "\n",
    "    @classmethod\n",
    "    def get(self):\n",
    "        cur.execute('''\n",
    "                    SELECT m.name, m.director, d.birth_year, d.country, m.country, m.year, m.rating, GROUP_CONCAT(g.genre, ',')\n",
    "                    FROM movies m\n",
    "                    LEFT JOIN directors d ON m.director = d.name\n",
    "                    LEFT JOIN movie_genre g ON m.name = g.movie\n",
    "                    GROUP BY m.name\n",
    "                    ''')\n",
    "        res = cur.fetchall()\n",
    "        return res\n",
    "    def __str__(self):\n",
    "        return \"(%s, %s, %s, %s, %s, %s)\" % (self.name, self.director, self.country, self.year, self.rating, self.genres)"
   ]
  },
  {
   "cell_type": "code",
   "execution_count": 23,
   "id": "6d636211",
   "metadata": {},
   "outputs": [],
   "source": [
    "Movie.removeTable()\n",
    "Movie.createTable()\n",
    "\n",
    "cur.execute('DROP TABLE IF EXISTS MOVIE_GENRE')\n",
    "con.commit()"
   ]
  },
  {
   "cell_type": "code",
   "execution_count": 24,
   "id": "e5c8d748",
   "metadata": {},
   "outputs": [],
   "source": [
    "createGenreMapping()"
   ]
  },
  {
   "cell_type": "code",
   "execution_count": 25,
   "id": "6b8a06ae",
   "metadata": {},
   "outputs": [],
   "source": [
    "movie_1 = Movie('One Piece', 'Konosude Uda', 'Japan', 1999, 8.9, {Genre.ADVENTURE})\n",
    "movie_2 = Movie('Blade', 'Steven Norrington', 'LosAngeles', 1998, 7.1, {Genre.HORROR})\n",
    "movie_3 = Movie('Pulp fiction', 'Quentin Tarantino', 'USA', 1994, 8.9, {Genre.COMEDY})\n",
    "\n",
    "\n",
    "movie_1.insert()\n",
    "movie_2.insert()\n",
    "movie_3.insert()"
   ]
  },
  {
   "cell_type": "code",
   "execution_count": 26,
   "id": "1cfa9f13",
   "metadata": {},
   "outputs": [
    {
     "name": "stdout",
     "output_type": "stream",
     "text": [
      "(Pulp fiction, Quentin Tarantino, USA, 1994, 8.9, {<Genre.COMEDY: 'comedy'>})\n"
     ]
    }
   ],
   "source": [
    "print(movie_1.get(\"Pulp fiction\"))"
   ]
  },
  {
   "cell_type": "markdown",
   "id": "17b14611",
   "metadata": {},
   "source": [
    "### erDiagram"
   ]
  },
  {
   "cell_type": "markdown",
   "id": "c3551c80",
   "metadata": {},
   "source": [
    "erDiagram\n",
    "\n",
    "\n",
    "    movie {\n",
    "        TEXT name PK\n",
    "        TEXT director\n",
    "        TEXT country FK\n",
    "        INTEGER year\n",
    "        REAL rating\n",
    "\n",
    "    }\n",
    "\n",
    "    l_countries {\n",
    "        TEXT country PK\n",
    "    }\n",
    "\n",
    "    directors {\n",
    "        TEXT name PK\n",
    "        INTEGER year\n",
    "        TEXT country\n",
    "    }\n",
    "\n",
    "    l_genres {\n",
    "        TEXT genre PK\n",
    "    }\n",
    "\n",
    "    movie_genres {\n",
    "        TEXT movie FK\n",
    "        TEXT genre FK\n",
    "    }\n",
    "\n",
    "\n",
    "    movie }|--|| directors : \"made by\"\n",
    "    movie }|--|| l_countries : from\n",
    "    movie }|--|{ movie_genres  : \"is\"\n",
    "    l_genres||--|{ movie_genres : refers"
   ]
  }
 ],
 "metadata": {
  "kernelspec": {
   "display_name": "Python 3 (ipykernel)",
   "language": "python",
   "name": "python3"
  },
  "language_info": {
   "codemirror_mode": {
    "name": "ipython",
    "version": 3
   },
   "file_extension": ".py",
   "mimetype": "text/x-python",
   "name": "python",
   "nbconvert_exporter": "python",
   "pygments_lexer": "ipython3",
   "version": "3.10.7"
  }
 },
 "nbformat": 4,
 "nbformat_minor": 5
}
