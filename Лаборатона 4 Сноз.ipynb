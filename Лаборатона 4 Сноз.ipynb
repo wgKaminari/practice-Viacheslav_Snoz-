{
 "cells": [
  {
   "cell_type": "code",
   "execution_count": 1,
   "id": "a79dd319",
   "metadata": {},
   "outputs": [],
   "source": [
    "import sqlite3"
   ]
  },
  {
   "cell_type": "markdown",
   "id": "06be9265",
   "metadata": {},
   "source": [
    "### Підключаємо базу даних та створюємо таблицю"
   ]
  },
  {
   "cell_type": "code",
   "execution_count": 2,
   "id": "3b51dd60",
   "metadata": {},
   "outputs": [],
   "source": [
    "con = sqlite3.connect(\"Movies.db\")\n",
    "cur = con.cursor()"
   ]
  },
  {
   "cell_type": "code",
   "execution_count": 3,
   "id": "cc886936",
   "metadata": {},
   "outputs": [
    {
     "data": {
      "text/plain": [
       "<sqlite3.Cursor at 0x144971abb40>"
      ]
     },
     "execution_count": 3,
     "metadata": {},
     "output_type": "execute_result"
    }
   ],
   "source": [
    "cur.execute(\"\"\"CREATE TABLE If Not Exists Movies (title text,\n",
    "                                                  year integer,\n",
    "                                                  director text,\n",
    "                                                  genre text,\n",
    "                                                  rating real)\"\"\")"
   ]
  },
  {
   "cell_type": "markdown",
   "id": "f54eb7d1",
   "metadata": {},
   "source": [
    "### Ствоюємо клас та додаємо методи\n",
    "1) select\n",
    "2) insert\n",
    "3) update rating\n",
    "4) delete"
   ]
  },
  {
   "cell_type": "code",
   "execution_count": 4,
   "id": "cb27cd97",
   "metadata": {},
   "outputs": [],
   "source": [
    "class Movie:\n",
    "    def __init__(self, title, year, director, genre, rating):\n",
    "        self.title = title\n",
    "        self.year = year\n",
    "        self.director = director\n",
    "        self.genre = genre\n",
    "        self.rating = rating\n",
    "    \n",
    "    @classmethod    \n",
    "    def select_movie(self, name):\n",
    "        cur.execute(\"Select * from Movies where title=?\", (name,))\n",
    "        res = cur.fetchone()\n",
    "        return Movie(res[0],res[1],res[2], res[3],res[4])\n",
    "    \n",
    "    def insert_movie(self):\n",
    "        cur.execute('INSERT INTO Movies(title, year, director,genre, rating) Values(?,?,?,?,?)', (self.title, self.year, self.director, self.genre, self.rating))\n",
    "        con.commit()\n",
    "            \n",
    "    def update_rating(title, rating):\n",
    "        cur.execute('UPDATE Movies SET rating=? WHERE title=?', (rating,title))\n",
    "        con.commit()\n",
    "        \n",
    "    def delete(title):\n",
    "        cur.execute('DELETE FROM Movies WHERE title=?', (title,))\n",
    "        con.commit()"
   ]
  },
  {
   "cell_type": "code",
   "execution_count": 5,
   "id": "4a5678ba",
   "metadata": {},
   "outputs": [],
   "source": [
    "movie_1 = Movie('One Piece', 1999, 'Konosude Uda', 'adventure', 9.0)\n",
    "movie_2 = Movie('Blade', 1998, 'Steven Norrington', 'horror', 7.1)\n",
    "movie_3 = Movie('Pulp fiction', 1994, 'Quentin Tarantino', 'comedy', 8.9)"
   ]
  },
  {
   "cell_type": "markdown",
   "id": "c2289338",
   "metadata": {},
   "source": [
    "### Перевіряємо на роботу всі методи"
   ]
  },
  {
   "cell_type": "code",
   "execution_count": 6,
   "id": "2c44a7e1",
   "metadata": {},
   "outputs": [],
   "source": [
    "movie_1.insert_movie()"
   ]
  },
  {
   "cell_type": "code",
   "execution_count": 7,
   "id": "2a6365e9",
   "metadata": {},
   "outputs": [
    {
     "data": {
      "text/plain": [
       "{'title': 'One Piece',\n",
       " 'year': 1999,\n",
       " 'director': 'Konosude Uda',\n",
       " 'genre': 'adventure',\n",
       " 'rating': 9.0}"
      ]
     },
     "execution_count": 7,
     "metadata": {},
     "output_type": "execute_result"
    }
   ],
   "source": [
    "Movie.select_movie('One Piece').__dict__"
   ]
  },
  {
   "cell_type": "code",
   "execution_count": 8,
   "id": "8de8f6fb",
   "metadata": {},
   "outputs": [],
   "source": [
    "Movie.update_rating('One Piece', 10)"
   ]
  },
  {
   "cell_type": "code",
   "execution_count": 9,
   "id": "3b76cccf",
   "metadata": {},
   "outputs": [
    {
     "data": {
      "text/plain": [
       "{'title': 'One Piece',\n",
       " 'year': 1999,\n",
       " 'director': 'Konosude Uda',\n",
       " 'genre': 'adventure',\n",
       " 'rating': 10.0}"
      ]
     },
     "execution_count": 9,
     "metadata": {},
     "output_type": "execute_result"
    }
   ],
   "source": [
    "Movie.select_movie('One Piece').__dict__"
   ]
  },
  {
   "cell_type": "code",
   "execution_count": 10,
   "id": "748dea74",
   "metadata": {},
   "outputs": [],
   "source": [
    "Movie.delete('One Piece')"
   ]
  },
  {
   "cell_type": "code",
   "execution_count": 11,
   "id": "23c98d22",
   "metadata": {},
   "outputs": [
    {
     "data": {
      "text/plain": [
       "[]"
      ]
     },
     "execution_count": 11,
     "metadata": {},
     "output_type": "execute_result"
    }
   ],
   "source": [
    "res = cur.execute(\"select * from Movies\")\n",
    "res.fetchall()"
   ]
  },
  {
   "cell_type": "code",
   "execution_count": 12,
   "id": "620764b6",
   "metadata": {},
   "outputs": [],
   "source": [
    "movie_3.insert_movie()"
   ]
  },
  {
   "cell_type": "code",
   "execution_count": 13,
   "id": "28cd45c5",
   "metadata": {},
   "outputs": [
    {
     "data": {
      "text/plain": [
       "[('Pulp fiction', 1994, 'Quentin Tarantino', 'comedy', 8.9)]"
      ]
     },
     "execution_count": 13,
     "metadata": {},
     "output_type": "execute_result"
    }
   ],
   "source": [
    "res = cur.execute(\"select * from Movies\")\n",
    "res.fetchall()"
   ]
  }
 ],
 "metadata": {
  "kernelspec": {
   "display_name": "Python 3 (ipykernel)",
   "language": "python",
   "name": "python3"
  },
  "language_info": {
   "codemirror_mode": {
    "name": "ipython",
    "version": 3
   },
   "file_extension": ".py",
   "mimetype": "text/x-python",
   "name": "python",
   "nbconvert_exporter": "python",
   "pygments_lexer": "ipython3",
   "version": "3.10.7"
  }
 },
 "nbformat": 4,
 "nbformat_minor": 5
}
