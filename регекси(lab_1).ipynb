{
 "cells": [
  {
   "cell_type": "code",
   "execution_count": 3,
   "id": "703e1feb-dcf8-43ef-835a-06262a4bf203",
   "metadata": {},
   "outputs": [],
   "source": [
    "import re"
   ]
  },
  {
   "cell_type": "code",
   "execution_count": 54,
   "id": "0021a385-9026-49a2-9829-7cacd2345bec",
   "metadata": {},
   "outputs": [
    {
     "name": "stdout",
     "output_type": "stream",
     "text": [
      "Початковий рядок: blahblahblah #$%^&*() зацензурили 0_0)!\n",
      "Рядок без спеціальних символів: blahblahblah  зацензурили 0_0\n"
     ]
    }
   ],
   "source": [
    "text = \"blahblahblah #$%^&*() зацензурили!\"\n",
    "\n",
    "new_text = re.sub(r\"[^\\w\\s]\", \"\", text)\n",
    "\n",
    "print(f\"Початковий рядок: {text}\")\n",
    "print(f\"Рядок без спеціальних символів: {new_text}\")"
   ]
  },
  {
   "cell_type": "code",
   "execution_count": 51,
   "id": "8f55028d-2fb8-428e-9dc2-7940ce5b54cd",
   "metadata": {},
   "outputs": [
    {
     "name": "stdout",
     "output_type": "stream",
     "text": [
      "['bruggy', 'bonney']\n"
     ]
    }
   ],
   "source": [
    "search_char = 'y'\n",
    "input_text = \"Bruh, bruggy, bonney\"\n",
    "\n",
    "pattern = fr'\\b\\w*{re.escape(search_char)}\\w*\\b'\n",
    "result = re.findall(pattern, input_text)\n",
    "\n",
    "print(result)"
   ]
  },
  {
   "cell_type": "code",
   "execution_count": 61,
   "id": "f6a6fb4f-c83d-4b99-b960-97896958841a",
   "metadata": {},
   "outputs": [
    {
     "name": "stdout",
     "output_type": "stream",
     "text": [
      "['Bluuh', 'blaah']\n"
     ]
    }
   ],
   "source": [
    "word_length = 5\n",
    "pattern = fr'\\b\\w{{{word_length}}}\\b'\n",
    "\n",
    "text = \"Bluuh bla bla blaah blaaaaaaaaa\"\n",
    "\n",
    "matches = re.findall(pattern, text)\n",
    "print(matches)"
   ]
  },
  {
   "cell_type": "code",
   "execution_count": 72,
   "id": "f347e0ff-e094-4461-b21b-25adba91f510",
   "metadata": {},
   "outputs": [
    {
     "name": "stdout",
     "output_type": "stream",
     "text": [
      "['blinds']\n"
     ]
    }
   ],
   "source": [
    "pattern = r'\\b[ab]\\w*s\\b'\n",
    "\n",
    "text = \"Bones are so ambitious, pes patron karoche\"\n",
    "\n",
    "matches = re.findall(pattern, text)\n",
    "print(matches)"
   ]
  },
  {
   "cell_type": "code",
   "execution_count": 22,
   "id": "1d86e511-c669-4617-90df-d4b7a99aca73",
   "metadata": {},
   "outputs": [
    {
     "name": "stdout",
     "output_type": "stream",
     "text": [
      "Самі регекси: ^\\w\\s ; \\w*[y]\\w* ; \\b\\w{n}\\b ; \\b[ab]\\w*s\\b\n",
      "спочатку цей вонючий принт гнав бєса, але я вліпив r і всьо пофіксив :3\n"
     ]
    }
   ],
   "source": [
    "print(f\"Самі регекси: {r'^\\w\\s'}\" f\"{r' ; \\w*[y]\\w*'}\" f\"{r' ; \\b\\w{n}\\b'}\" f\"{r' ; \\b[ab]\\w*s\\b'}\")\n",
    "\n",
    "print('спочатку цей вонючий принт гнав бєса, але я вліпив r і всьо пофіксив :3')"
   ]
  },
  {
   "cell_type": "code",
   "execution_count": 14,
   "id": "18c4abb4-36e4-4f05-82ac-060334952727",
   "metadata": {},
   "outputs": [
    {
     "name": "stdout",
     "output_type": "stream",
     "text": [
      "Грошові суми: [123.45, 400.0]\n",
      "Сума всіх грошових  грошей: 523.45\n",
      "Суми вдарили в голову :0\n"
     ]
    }
   ],
   "source": [
    "text_example = \"перша сума $123.45, друга сума $400.00\"\n",
    "\n",
    "money_pattern = r'\\$\\d+\\.\\d+'\n",
    "money_matches = re.findall(money_pattern, text_example)\n",
    "\n",
    "money_values = [float(match[1:]) for match in money_matches]\n",
    "\n",
    "total_sum = sum(money_values)\n",
    "\n",
    "print(\"Грошові суми:\", money_values)\n",
    "print(\"Сума всіх грошових  грошей:\", total_sum)\n",
    "print('Суми вдарили в голову :0')"
   ]
  },
  {
   "cell_type": "code",
   "execution_count": 16,
   "id": "cc12bdb9-0cb0-499a-a377-d65f8efe6d7c",
   "metadata": {},
   "outputs": [
    {
     "name": "stdout",
     "output_type": "stream",
     "text": [
      "\n",
      "print(\"Hello, World!\")\n",
      "a = x + b\n",
      "\n"
     ]
    }
   ],
   "source": [
    "python_code_example = \"\"\"\n",
    "print(\"Hello, World!\")\n",
    "\n",
    "a = x + b\n",
    "\"\"\"\n",
    "\n",
    "cleaned_code = re.sub(r'#.*', '', python_code_example)\n",
    "\n",
    "cleaned_code = re.sub(r'\\s*\\n', '\\n', cleaned_code)\n",
    "\n",
    "print(cleaned_code)"
   ]
  },
  {
   "cell_type": "code",
   "execution_count": 21,
   "id": "d25ea101-458d-422d-be4c-964bc9aeb08b",
   "metadata": {},
   "outputs": [
    {
     "name": "stdout",
     "output_type": "stream",
     "text": [
      "Конвертована дата: 11-02-2024\n"
     ]
    }
   ],
   "source": [
    "from datetime import datetime\n",
    "\n",
    "date_example = \"2024-02-11\"\n",
    "\n",
    "try:\n",
    "    date_obj = datetime.strptime(date_example, \"%Y-%m-%d\")\n",
    "    converted_date = date_obj.strftime(\"%d-%m-%Y\")\n",
    "    print(f\"Конвертована дата: {converted_date}\")\n",
    "except ValueError:\n",
    "    print(\"Це не правильна дата, напишіть дату в форматі рррр-мм-дд.\")"
   ]
  },
  {
   "cell_type": "code",
   "execution_count": null,
   "id": "d8024bf0-6a07-42c8-aecc-a6f710bac70d",
   "metadata": {},
   "outputs": [],
   "source": []
  }
 ],
 "metadata": {
  "kernelspec": {
   "display_name": "Python 3 (ipykernel)",
   "language": "python",
   "name": "python3"
  },
  "language_info": {
   "codemirror_mode": {
    "name": "ipython",
    "version": 3
   },
   "file_extension": ".py",
   "mimetype": "text/x-python",
   "name": "python",
   "nbconvert_exporter": "python",
   "pygments_lexer": "ipython3",
   "version": "3.12.2"
  }
 },
 "nbformat": 4,
 "nbformat_minor": 5
}
