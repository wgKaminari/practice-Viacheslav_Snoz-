{
 "cells": [
  {
   "cell_type": "code",
   "execution_count": 19,
   "id": "55f41b8b",
   "metadata": {},
   "outputs": [],
   "source": [
    "from enum import Enum"
   ]
  },
  {
   "cell_type": "code",
   "execution_count": 20,
   "id": "16f8560a",
   "metadata": {},
   "outputs": [],
   "source": [
    "class Genre(Enum):\n",
    "    Comedy = 1\n",
    "    Romance = 2\n",
    "    Science_fiction = 3\n",
    "    Action = 4\n",
    "    Drama = 5\n",
    "    Horror = 6\n",
    "    Fantasy = 7\n",
    "    Adventure = 8\n",
    "    Crime = 9\n",
    "    Historical = 10\n",
    "    Other = 11"
   ]
  },
  {
   "cell_type": "code",
   "execution_count": 21,
   "id": "3521c368",
   "metadata": {},
   "outputs": [],
   "source": [
    "class Director:\n",
    "    def __init__(self, name):\n",
    "        self.name = name"
   ]
  },
  {
   "cell_type": "code",
   "execution_count": 22,
   "id": "ed26130c",
   "metadata": {},
   "outputs": [],
   "source": [
    "class Movie:\n",
    "    def __init__(self, title: str, year: int, director: str, genre: int, rating: float):\n",
    "        self.title = title\n",
    "        self.year = year\n",
    "        self.director = director.name\n",
    "        self.genre = Genre(genre).name\n",
    "        self.rating = rating\n",
    "        \n",
    "    def __str__(self):\n",
    "        return f'Title: {self.title}\\nYear: {self.year}\\nDirector: {self.director}\\nRating: {self.rating}\\nGenre: {self.genre}'\n"
   ]
  },
  {
   "cell_type": "code",
   "execution_count": 50,
   "id": "5a56b26a",
   "metadata": {},
   "outputs": [],
   "source": [
    "fight_club_director = Director('David Fincher')\n",
    "green_book_director = Director('Peter Farrelly')\n",
    "drive_director = Director('Nicolas Winding Refn')"
   ]
  },
  {
   "cell_type": "code",
   "execution_count": 51,
   "id": "35e5f8b0",
   "metadata": {},
   "outputs": [],
   "source": [
    "movie_1 = Movie('Fight Club', 1999, fight_club_director, 4, 7.4)\n",
    "movie_2 = Movie('Green Book', 2018, green_book_director, 5, 8.2)\n",
    "movie_3 = Movie('Drive', 2011, drive_director, 4, 8.3)"
   ]
  },
  {
   "cell_type": "code",
   "execution_count": 52,
   "id": "7d841430",
   "metadata": {},
   "outputs": [
    {
     "name": "stdout",
     "output_type": "stream",
     "text": [
      "Title: Fight Club\n",
      "Year: 1999\n",
      "Director: David Fincher\n",
      "Rating: 7.4\n",
      "Genre: Action\n"
     ]
    }
   ],
   "source": [
    "print(movie_1)"
   ]
  },
  {
   "cell_type": "code",
   "execution_count": 53,
   "id": "3b26e361",
   "metadata": {},
   "outputs": [
    {
     "name": "stdout",
     "output_type": "stream",
     "text": [
      "Title: Green Book\n",
      "Year: 2018\n",
      "Director: Peter Farrelly\n",
      "Rating: 8.2\n",
      "Genre: Drama\n"
     ]
    }
   ],
   "source": [
    "print(movie_2)"
   ]
  },
  {
   "cell_type": "code",
   "execution_count": 54,
   "id": "9e9c2829",
   "metadata": {},
   "outputs": [
    {
     "name": "stdout",
     "output_type": "stream",
     "text": [
      "Title: Drive\n",
      "Year: 2011\n",
      "Director: Nicolas Winding Refn\n",
      "Rating: 8.3\n",
      "Genre: Action\n"
     ]
    }
   ],
   "source": [
    "print(movie_3)"
   ]
  },
  {
   "cell_type": "code",
   "execution_count": null,
   "id": "fbbf69f4-6946-4ef7-a855-79817e81cccd",
   "metadata": {},
   "outputs": [],
   "source": []
  }
 ],
 "metadata": {
  "kernelspec": {
   "display_name": "Python 3 (ipykernel)",
   "language": "python",
   "name": "python3"
  },
  "language_info": {
   "codemirror_mode": {
    "name": "ipython",
    "version": 3
   },
   "file_extension": ".py",
   "mimetype": "text/x-python",
   "name": "python",
   "nbconvert_exporter": "python",
   "pygments_lexer": "ipython3",
   "version": "3.12.2"
  }
 },
 "nbformat": 4,
 "nbformat_minor": 5
}
